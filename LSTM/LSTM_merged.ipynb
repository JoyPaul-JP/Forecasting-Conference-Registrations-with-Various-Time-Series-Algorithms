{
 "cells": [
  {
   "cell_type": "code",
   "execution_count": 1,
   "id": "2de919be-ce88-46e3-9589-7898effa954b",
   "metadata": {},
   "outputs": [
    {
     "name": "stderr",
     "output_type": "stream",
     "text": [
      "C:\\Users\\joypa\\AppData\\Local\\Temp\\ipykernel_22904\\2818863710.py:5: DeprecationWarning: \n",
      "Pyarrow will become a required dependency of pandas in the next major release of pandas (pandas 3.0),\n",
      "(to allow more performant data types, such as the Arrow string type, and better interoperability with other libraries)\n",
      "but was not found to be installed on your system.\n",
      "If this would cause problems for you,\n",
      "please provide us feedback at https://github.com/pandas-dev/pandas/issues/54466\n",
      "        \n",
      "  import pandas as pd\n"
     ]
    },
    {
     "name": "stdout",
     "output_type": "stream",
     "text": [
      "WARNING:tensorflow:From F:\\Works\\Collaborative Application Development\\Python\\venv\\lib\\site-packages\\keras\\src\\losses.py:2976: The name tf.losses.sparse_softmax_cross_entropy is deprecated. Please use tf.compat.v1.losses.sparse_softmax_cross_entropy instead.\n",
      "\n"
     ]
    }
   ],
   "source": [
    "#importing libraries\n",
    "import matplotlib.pyplot as plt\n",
    "import numpy as np\n",
    "import pandas as pd\n",
    "from keras.models import Sequential\n",
    "from keras.layers import Dense\n",
    "from keras.layers import LSTM\n",
    "from sklearn.preprocessing import MinMaxScaler\n",
    "from sklearn.metrics import mean_squared_error\n",
    "from sklearn.model_selection import TimeSeriesSplit\n",
    "from itertools import product"
   ]
  },
  {
   "cell_type": "code",
   "execution_count": 235,
   "id": "7acffbb9-905f-4975-927f-c32b54f810f5",
   "metadata": {},
   "outputs": [],
   "source": [
    "# Read the CSV files into pandas DataFrames\n",
    "df1 = pd.read_csv('F:/Works/Collaborative Application Development/Day Data/GP21_updated_days.csv')  # Replace with the actual file path\n",
    "df2 = pd.read_csv('F:/Works/Collaborative Application Development/Day Data/NP21_updated_days.csv')  # Replace with the actual file path"
   ]
  },
  {
   "cell_type": "code",
   "execution_count": 236,
   "id": "776ad340-e32e-4a9d-9196-f92ab9a5054e",
   "metadata": {},
   "outputs": [],
   "source": [
    "# Drop the 'Date' column from both DataFrames\n",
    "df1 = df1.drop('Date', axis=1)\n",
    "df2 = df2.drop('Date', axis=1)"
   ]
  },
  {
   "cell_type": "code",
   "execution_count": 237,
   "id": "4da1106c-b3a2-4a6e-ae0b-8b266844498b",
   "metadata": {},
   "outputs": [],
   "source": [
    "# Extract 'Total Registered' column\n",
    "total_registered_df1 = df1['Total Registered']\n",
    "total_registered_df1 = total_registered_df1[-70:]\n",
    "\n",
    "# Extract 'Total Registered' column\n",
    "total_registered_df2 = df2['Total Registered']\n",
    "total_registered_df2 = total_registered_df2[-70:]"
   ]
  },
  {
   "cell_type": "code",
   "execution_count": 238,
   "id": "14becd82-f515-4694-9a66-ff5443e0c6d7",
   "metadata": {},
   "outputs": [],
   "source": [
    "# Reset index for both DataFrames\n",
    "total_registered_df1.reset_index(drop=True, inplace=True)\n",
    "total_registered_df2.reset_index(drop=True, inplace=True)"
   ]
  },
  {
   "cell_type": "code",
   "execution_count": 239,
   "id": "3905f132-95fd-46b3-ab41-340e33cd8a9a",
   "metadata": {},
   "outputs": [],
   "source": [
    "# Concatenate the DataFrames along the columns axis\n",
    "df = pd.concat([total_registered_df1, total_registered_df2], axis=1)"
   ]
  },
  {
   "cell_type": "code",
   "execution_count": 240,
   "id": "21204829-4abb-466c-b12c-31ca12b524aa",
   "metadata": {},
   "outputs": [],
   "source": [
    "# Calculate the mean along the columns axis to combine the values into a single column\n",
    "df['Total Registered Data'] = df.mean(axis=1).round().astype(int)  # You can replace 'mean' with 'median', 'sum', or any other aggregation function\n",
    "\n",
    "# Drop the original columns from the concatenated DataFrame\n",
    "df = df.drop(['Total Registered'], axis=1)"
   ]
  },
  {
   "cell_type": "code",
   "execution_count": 241,
   "id": "7684db34-1212-4fc8-af87-1a9b1e4b25df",
   "metadata": {},
   "outputs": [
    {
     "name": "stdout",
     "output_type": "stream",
     "text": [
      "    Total Registered Data     Day\n",
      "0                       1   Day 1\n",
      "1                       1   Day 2\n",
      "2                       1   Day 3\n",
      "3                      14   Day 4\n",
      "4                       4   Day 5\n",
      "..                    ...     ...\n",
      "65                      1  Day 66\n",
      "66                      6  Day 67\n",
      "67                     10  Day 68\n",
      "68                     15  Day 69\n",
      "69                      2  Day 70\n",
      "\n",
      "[70 rows x 2 columns]\n"
     ]
    }
   ],
   "source": [
    "df.reset_index(drop=True, inplace=True)\n",
    "\n",
    "# Add a new column named \"Day\" starting from 1\n",
    "df['Day'] = 'Day ' + (df.index + 1).astype(str)\n",
    "print(df)\n",
    "\n",
    "# Save the DataFrame to a CSV file\n",
    "#df.to_csv('F:/Works/Collaborative Application Development/Merged Dataset (Last 10 Weeks)/Property_Managers.csv', index=False)"
   ]
  },
  {
   "cell_type": "code",
   "execution_count": 242,
   "id": "61559811-aa0b-4ef7-badc-9e31d3c412ad",
   "metadata": {},
   "outputs": [],
   "source": [
    "# Preprocess the data\n",
    "total_registered = df['Total Registered Data'].values.reshape(-1, 1)"
   ]
  },
  {
   "cell_type": "code",
   "execution_count": null,
   "id": "7c481e27-df81-49e2-9e3e-ecb145bd54aa",
   "metadata": {},
   "outputs": [],
   "source": []
  },
  {
   "cell_type": "code",
   "execution_count": null,
   "id": "d16e18c9-4469-471b-980e-695fcb2ddaed",
   "metadata": {},
   "outputs": [],
   "source": []
  },
  {
   "cell_type": "code",
   "execution_count": 253,
   "id": "51f01720-b24e-473c-aa59-b4d5bedec996",
   "metadata": {},
   "outputs": [],
   "source": [
    "#For MSE21\n",
    "\n",
    "# Load your DataFrame from the CSV file\n",
    "df = pd.read_csv('F:/Works/Collaborative Application Development/Day Data/MSE21_updated_days.csv')\n",
    "\n",
    "# Drop unnecessary columns\n",
    "df = df.drop(['Date', 'Day'], axis=1)\n",
    "\n",
    "# Extract the last 70 rows from the DataFrame\n",
    "total_registered = df['Total Registered'].tail(70)\n",
    "\n",
    "# Create a new DataFrame for the last 70 rows with a new 'Day' column\n",
    "day_column = ['Day ' + str(i) for i in range(1, len(total_registered) + 1)]\n",
    "day_df = pd.DataFrame({'Total Registered': total_registered.values, 'Day': day_column})\n",
    "\n",
    "# Save the DataFrame to a CSV file\n",
    "#day_df.to_csv('F:/Works/Collaborative Application Development/Merged Dataset (Last 10 Weeks)/Education_Property_Managers.csv', index=False)\n",
    "\n",
    "# Ensure 'Day' is treated as a categorical variable\n",
    "day_df['Day'] = day_df['Day'].astype('category')\n",
    "# Extract 'Total Registered' column\n",
    "total_registered = day_df['Total Registered'].values.reshape(-1, 1)"
   ]
  },
  {
   "cell_type": "code",
   "execution_count": null,
   "id": "4f05a071-3912-4539-9dc6-136504e1706c",
   "metadata": {},
   "outputs": [],
   "source": []
  },
  {
   "cell_type": "code",
   "execution_count": null,
   "id": "e17429d7-974d-4379-b923-4769535423ea",
   "metadata": {},
   "outputs": [],
   "source": []
  },
  {
   "cell_type": "code",
   "execution_count": null,
   "id": "5fb76917-ec23-44b1-9e46-49df83c47ed2",
   "metadata": {},
   "outputs": [],
   "source": []
  },
  {
   "cell_type": "code",
   "execution_count": null,
   "id": "6537c5ce-e31e-48dc-99dc-499dfb594ced",
   "metadata": {},
   "outputs": [],
   "source": []
  },
  {
   "cell_type": "code",
   "execution_count": 254,
   "id": "c1698afd-0954-446a-aa15-f48dc01a7f1e",
   "metadata": {},
   "outputs": [],
   "source": [
    "# Normalize the data\n",
    "scaler = MinMaxScaler(feature_range=(0, 1))\n",
    "total_registered_scaled = scaler.fit_transform(total_registered)"
   ]
  },
  {
   "cell_type": "code",
   "execution_count": 255,
   "id": "37edb993-c522-46b6-a640-910c9027092b",
   "metadata": {},
   "outputs": [],
   "source": [
    "# Define the function to create sequences\n",
    "def create_sequences(data, seq_length):\n",
    "    X, y = [], []\n",
    "    for i in range(len(data) - seq_length):\n",
    "        X.append(data[i:i+seq_length])\n",
    "        y.append(data[i+seq_length])\n",
    "    return np.array(X), np.array(y)"
   ]
  },
  {
   "cell_type": "code",
   "execution_count": 256,
   "id": "b1a8f505-ab4b-4ff3-acc9-3297342f06eb",
   "metadata": {},
   "outputs": [],
   "source": [
    "# Define the sequence length\n",
    "seq_length = 10\n",
    "\n",
    "# Create sequences\n",
    "X, y = create_sequences(total_registered_scaled, seq_length)"
   ]
  },
  {
   "cell_type": "code",
   "execution_count": 257,
   "id": "ac89b414-f310-499a-87e3-27ed4d7ba88a",
   "metadata": {},
   "outputs": [],
   "source": [
    "# Split the data into training and testing sets\n",
    "split = int(0.8 * len(X))\n",
    "X_train, X_test, y_train, y_test = X[:split], X[split:], y[:split], y[split:]"
   ]
  },
  {
   "cell_type": "code",
   "execution_count": null,
   "id": "9209f7d4-43f8-43eb-b0dd-08d785705f33",
   "metadata": {},
   "outputs": [],
   "source": []
  },
  {
   "cell_type": "code",
   "execution_count": null,
   "id": "5eb7ac14-5d33-49d3-a8d5-05a09b556834",
   "metadata": {},
   "outputs": [],
   "source": []
  },
  {
   "cell_type": "code",
   "execution_count": null,
   "id": "0999a03d-cf8f-4eaa-a995-f9f3f4dd8d85",
   "metadata": {},
   "outputs": [],
   "source": []
  },
  {
   "cell_type": "code",
   "execution_count": null,
   "id": "e67d79b1-e477-4823-9dac-2056e9a73528",
   "metadata": {},
   "outputs": [],
   "source": []
  },
  {
   "cell_type": "code",
   "execution_count": 259,
   "id": "e3dcfdb8-2eaa-4d45-b2f9-1efb1e015eb7",
   "metadata": {},
   "outputs": [
    {
     "name": "stdout",
     "output_type": "stream",
     "text": [
      "Epoch 1/100\n",
      "6/6 - 4s - loss: 0.0655 - val_loss: 0.0082 - 4s/epoch - 680ms/step\n",
      "Epoch 2/100\n",
      "6/6 - 0s - loss: 0.0691 - val_loss: 0.0112 - 132ms/epoch - 22ms/step\n",
      "Epoch 3/100\n",
      "6/6 - 0s - loss: 0.0648 - val_loss: 0.0047 - 150ms/epoch - 25ms/step\n",
      "Epoch 4/100\n",
      "6/6 - 0s - loss: 0.0630 - val_loss: 0.0053 - 124ms/epoch - 21ms/step\n",
      "Epoch 5/100\n",
      "6/6 - 0s - loss: 0.0619 - val_loss: 0.0076 - 110ms/epoch - 18ms/step\n",
      "Epoch 6/100\n",
      "6/6 - 0s - loss: 0.0604 - val_loss: 0.0124 - 120ms/epoch - 20ms/step\n",
      "Epoch 7/100\n",
      "6/6 - 0s - loss: 0.0604 - val_loss: 0.0161 - 117ms/epoch - 19ms/step\n",
      "Epoch 8/100\n",
      "6/6 - 0s - loss: 0.0609 - val_loss: 0.0138 - 154ms/epoch - 26ms/step\n",
      "Epoch 9/100\n",
      "6/6 - 0s - loss: 0.0596 - val_loss: 0.0144 - 111ms/epoch - 19ms/step\n",
      "Epoch 10/100\n",
      "6/6 - 0s - loss: 0.0597 - val_loss: 0.0172 - 134ms/epoch - 22ms/step\n",
      "Epoch 11/100\n",
      "6/6 - 0s - loss: 0.0593 - val_loss: 0.0162 - 136ms/epoch - 23ms/step\n",
      "Epoch 12/100\n",
      "6/6 - 0s - loss: 0.0593 - val_loss: 0.0156 - 164ms/epoch - 27ms/step\n",
      "Epoch 13/100\n",
      "6/6 - 0s - loss: 0.0594 - val_loss: 0.0218 - 118ms/epoch - 20ms/step\n",
      "Epoch 14/100\n",
      "6/6 - 0s - loss: 0.0588 - val_loss: 0.0207 - 111ms/epoch - 19ms/step\n",
      "Epoch 15/100\n",
      "6/6 - 0s - loss: 0.0591 - val_loss: 0.0166 - 133ms/epoch - 22ms/step\n",
      "Epoch 16/100\n",
      "6/6 - 0s - loss: 0.0595 - val_loss: 0.0195 - 119ms/epoch - 20ms/step\n",
      "Epoch 17/100\n",
      "6/6 - 0s - loss: 0.0593 - val_loss: 0.0137 - 136ms/epoch - 23ms/step\n",
      "Epoch 18/100\n",
      "6/6 - 0s - loss: 0.0583 - val_loss: 0.0170 - 112ms/epoch - 19ms/step\n",
      "Epoch 19/100\n",
      "6/6 - 0s - loss: 0.0574 - val_loss: 0.0187 - 119ms/epoch - 20ms/step\n",
      "Epoch 20/100\n",
      "6/6 - 0s - loss: 0.0582 - val_loss: 0.0151 - 135ms/epoch - 23ms/step\n",
      "Epoch 21/100\n",
      "6/6 - 0s - loss: 0.0567 - val_loss: 0.0174 - 116ms/epoch - 19ms/step\n",
      "Epoch 22/100\n",
      "6/6 - 0s - loss: 0.0568 - val_loss: 0.0175 - 100ms/epoch - 17ms/step\n",
      "Epoch 23/100\n",
      "6/6 - 0s - loss: 0.0571 - val_loss: 0.0206 - 135ms/epoch - 23ms/step\n",
      "Epoch 24/100\n",
      "6/6 - 0s - loss: 0.0563 - val_loss: 0.0177 - 120ms/epoch - 20ms/step\n",
      "Epoch 25/100\n",
      "6/6 - 0s - loss: 0.0555 - val_loss: 0.0168 - 130ms/epoch - 22ms/step\n",
      "Epoch 26/100\n",
      "6/6 - 0s - loss: 0.0554 - val_loss: 0.0169 - 112ms/epoch - 19ms/step\n",
      "Epoch 27/100\n",
      "6/6 - 0s - loss: 0.0548 - val_loss: 0.0173 - 122ms/epoch - 20ms/step\n",
      "Epoch 28/100\n",
      "6/6 - 0s - loss: 0.0546 - val_loss: 0.0170 - 116ms/epoch - 19ms/step\n",
      "Epoch 29/100\n",
      "6/6 - 0s - loss: 0.0544 - val_loss: 0.0205 - 131ms/epoch - 22ms/step\n",
      "Epoch 30/100\n",
      "6/6 - 0s - loss: 0.0561 - val_loss: 0.0138 - 134ms/epoch - 22ms/step\n",
      "Epoch 31/100\n",
      "6/6 - 0s - loss: 0.0541 - val_loss: 0.0159 - 120ms/epoch - 20ms/step\n",
      "Epoch 32/100\n",
      "6/6 - 0s - loss: 0.0558 - val_loss: 0.0196 - 96ms/epoch - 16ms/step\n",
      "Epoch 33/100\n",
      "6/6 - 0s - loss: 0.0537 - val_loss: 0.0127 - 131ms/epoch - 22ms/step\n",
      "Epoch 34/100\n",
      "6/6 - 0s - loss: 0.0529 - val_loss: 0.0135 - 136ms/epoch - 23ms/step\n",
      "Epoch 35/100\n",
      "6/6 - 0s - loss: 0.0523 - val_loss: 0.0164 - 119ms/epoch - 20ms/step\n",
      "Epoch 36/100\n",
      "6/6 - 0s - loss: 0.0519 - val_loss: 0.0171 - 116ms/epoch - 19ms/step\n",
      "Epoch 37/100\n",
      "6/6 - 0s - loss: 0.0520 - val_loss: 0.0184 - 129ms/epoch - 21ms/step\n",
      "Epoch 38/100\n",
      "6/6 - 0s - loss: 0.0518 - val_loss: 0.0138 - 153ms/epoch - 25ms/step\n",
      "Epoch 39/100\n",
      "6/6 - 0s - loss: 0.0510 - val_loss: 0.0142 - 103ms/epoch - 17ms/step\n",
      "Epoch 40/100\n",
      "6/6 - 0s - loss: 0.0504 - val_loss: 0.0159 - 128ms/epoch - 21ms/step\n",
      "Epoch 41/100\n",
      "6/6 - 0s - loss: 0.0502 - val_loss: 0.0176 - 135ms/epoch - 22ms/step\n",
      "Epoch 42/100\n",
      "6/6 - 0s - loss: 0.0500 - val_loss: 0.0147 - 114ms/epoch - 19ms/step\n",
      "Epoch 43/100\n",
      "6/6 - 0s - loss: 0.0496 - val_loss: 0.0160 - 110ms/epoch - 18ms/step\n",
      "Epoch 44/100\n",
      "6/6 - 0s - loss: 0.0496 - val_loss: 0.0135 - 124ms/epoch - 21ms/step\n",
      "Epoch 45/100\n",
      "6/6 - 0s - loss: 0.0501 - val_loss: 0.0166 - 123ms/epoch - 21ms/step\n",
      "Epoch 46/100\n",
      "6/6 - 0s - loss: 0.0495 - val_loss: 0.0126 - 133ms/epoch - 22ms/step\n",
      "Epoch 47/100\n",
      "6/6 - 0s - loss: 0.0483 - val_loss: 0.0133 - 144ms/epoch - 24ms/step\n",
      "Epoch 48/100\n",
      "6/6 - 0s - loss: 0.0481 - val_loss: 0.0151 - 177ms/epoch - 30ms/step\n",
      "Epoch 49/100\n",
      "6/6 - 0s - loss: 0.0481 - val_loss: 0.0141 - 169ms/epoch - 28ms/step\n",
      "Epoch 50/100\n",
      "6/6 - 0s - loss: 0.0477 - val_loss: 0.0156 - 165ms/epoch - 27ms/step\n",
      "Epoch 51/100\n",
      "6/6 - 0s - loss: 0.0474 - val_loss: 0.0136 - 120ms/epoch - 20ms/step\n",
      "Epoch 52/100\n",
      "6/6 - 0s - loss: 0.0488 - val_loss: 0.0151 - 124ms/epoch - 21ms/step\n",
      "Epoch 53/100\n",
      "6/6 - 0s - loss: 0.0478 - val_loss: 0.0104 - 118ms/epoch - 20ms/step\n",
      "Epoch 54/100\n",
      "6/6 - 0s - loss: 0.0480 - val_loss: 0.0132 - 130ms/epoch - 22ms/step\n",
      "Epoch 55/100\n",
      "6/6 - 0s - loss: 0.0486 - val_loss: 0.0112 - 128ms/epoch - 21ms/step\n",
      "Epoch 56/100\n",
      "6/6 - 0s - loss: 0.0472 - val_loss: 0.0141 - 100ms/epoch - 17ms/step\n",
      "Epoch 57/100\n",
      "6/6 - 0s - loss: 0.0476 - val_loss: 0.0107 - 100ms/epoch - 17ms/step\n",
      "Epoch 58/100\n",
      "6/6 - 0s - loss: 0.0468 - val_loss: 0.0105 - 100ms/epoch - 17ms/step\n",
      "Epoch 59/100\n",
      "6/6 - 0s - loss: 0.0462 - val_loss: 0.0115 - 107ms/epoch - 18ms/step\n",
      "Epoch 60/100\n",
      "6/6 - 0s - loss: 0.0461 - val_loss: 0.0116 - 100ms/epoch - 17ms/step\n",
      "Epoch 61/100\n",
      "6/6 - 0s - loss: 0.0462 - val_loss: 0.0109 - 102ms/epoch - 17ms/step\n",
      "Epoch 62/100\n",
      "6/6 - 0s - loss: 0.0459 - val_loss: 0.0118 - 156ms/epoch - 26ms/step\n",
      "Epoch 63/100\n",
      "6/6 - 0s - loss: 0.0465 - val_loss: 0.0111 - 100ms/epoch - 17ms/step\n",
      "Epoch 64/100\n",
      "6/6 - 0s - loss: 0.0464 - val_loss: 0.0081 - 116ms/epoch - 19ms/step\n",
      "Epoch 65/100\n",
      "6/6 - 0s - loss: 0.0458 - val_loss: 0.0069 - 100ms/epoch - 17ms/step\n",
      "Epoch 66/100\n",
      "6/6 - 0s - loss: 0.0455 - val_loss: 0.0080 - 115ms/epoch - 19ms/step\n",
      "Epoch 67/100\n",
      "6/6 - 0s - loss: 0.0437 - val_loss: 0.0079 - 100ms/epoch - 17ms/step\n",
      "Epoch 68/100\n",
      "6/6 - 0s - loss: 0.0459 - val_loss: 0.0067 - 86ms/epoch - 14ms/step\n",
      "Epoch 69/100\n",
      "6/6 - 0s - loss: 0.0472 - val_loss: 0.0048 - 83ms/epoch - 14ms/step\n",
      "Epoch 70/100\n",
      "6/6 - 0s - loss: 0.0472 - val_loss: 0.0029 - 100ms/epoch - 17ms/step\n",
      "Epoch 71/100\n",
      "6/6 - 0s - loss: 0.0457 - val_loss: 0.0065 - 101ms/epoch - 17ms/step\n",
      "Epoch 72/100\n",
      "6/6 - 0s - loss: 0.0431 - val_loss: 0.0087 - 99ms/epoch - 16ms/step\n",
      "Epoch 73/100\n",
      "6/6 - 0s - loss: 0.0422 - val_loss: 0.0104 - 104ms/epoch - 17ms/step\n",
      "Epoch 74/100\n",
      "6/6 - 0s - loss: 0.0417 - val_loss: 0.0092 - 114ms/epoch - 19ms/step\n",
      "Epoch 75/100\n",
      "6/6 - 0s - loss: 0.0406 - val_loss: 0.0063 - 97ms/epoch - 16ms/step\n",
      "Epoch 76/100\n",
      "6/6 - 0s - loss: 0.0391 - val_loss: 0.0063 - 106ms/epoch - 18ms/step\n",
      "Epoch 77/100\n",
      "6/6 - 0s - loss: 0.0395 - val_loss: 0.0094 - 123ms/epoch - 20ms/step\n",
      "Epoch 78/100\n",
      "6/6 - 0s - loss: 0.0374 - val_loss: 0.0111 - 86ms/epoch - 14ms/step\n",
      "Epoch 79/100\n",
      "6/6 - 0s - loss: 0.0406 - val_loss: 0.0037 - 120ms/epoch - 20ms/step\n",
      "Epoch 80/100\n",
      "6/6 - 0s - loss: 0.0396 - val_loss: 0.0063 - 104ms/epoch - 17ms/step\n",
      "Epoch 81/100\n",
      "6/6 - 0s - loss: 0.0429 - val_loss: 0.0097 - 96ms/epoch - 16ms/step\n",
      "Epoch 82/100\n",
      "6/6 - 0s - loss: 0.0422 - val_loss: 0.0080 - 100ms/epoch - 17ms/step\n",
      "Epoch 83/100\n",
      "6/6 - 0s - loss: 0.0372 - val_loss: 0.0057 - 82ms/epoch - 14ms/step\n",
      "Epoch 84/100\n",
      "6/6 - 0s - loss: 0.0381 - val_loss: 0.0064 - 100ms/epoch - 17ms/step\n",
      "Epoch 85/100\n",
      "6/6 - 0s - loss: 0.0369 - val_loss: 0.0101 - 102ms/epoch - 17ms/step\n",
      "Epoch 86/100\n",
      "6/6 - 0s - loss: 0.0385 - val_loss: 0.0100 - 117ms/epoch - 20ms/step\n",
      "Epoch 87/100\n",
      "6/6 - 0s - loss: 0.0354 - val_loss: 0.0062 - 94ms/epoch - 16ms/step\n",
      "Epoch 88/100\n",
      "6/6 - 0s - loss: 0.0369 - val_loss: 0.0079 - 102ms/epoch - 17ms/step\n",
      "Epoch 89/100\n",
      "6/6 - 0s - loss: 0.0362 - val_loss: 0.0043 - 99ms/epoch - 16ms/step\n",
      "Epoch 90/100\n",
      "6/6 - 0s - loss: 0.0344 - val_loss: 0.0041 - 116ms/epoch - 19ms/step\n",
      "Epoch 91/100\n",
      "6/6 - 0s - loss: 0.0354 - val_loss: 0.0058 - 112ms/epoch - 19ms/step\n",
      "Epoch 92/100\n",
      "6/6 - 0s - loss: 0.0344 - val_loss: 0.0081 - 90ms/epoch - 15ms/step\n",
      "Epoch 93/100\n",
      "6/6 - 0s - loss: 0.0341 - val_loss: 0.0058 - 87ms/epoch - 14ms/step\n",
      "Epoch 94/100\n",
      "6/6 - 0s - loss: 0.0351 - val_loss: 0.0098 - 98ms/epoch - 16ms/step\n",
      "Epoch 95/100\n",
      "6/6 - 0s - loss: 0.0352 - val_loss: 0.0067 - 108ms/epoch - 18ms/step\n",
      "Epoch 96/100\n",
      "6/6 - 0s - loss: 0.0335 - val_loss: 0.0063 - 100ms/epoch - 17ms/step\n",
      "Epoch 97/100\n",
      "6/6 - 0s - loss: 0.0331 - val_loss: 0.0068 - 100ms/epoch - 17ms/step\n",
      "Epoch 98/100\n",
      "6/6 - 0s - loss: 0.0327 - val_loss: 0.0075 - 100ms/epoch - 17ms/step\n",
      "Epoch 99/100\n",
      "6/6 - 0s - loss: 0.0324 - val_loss: 0.0086 - 84ms/epoch - 14ms/step\n",
      "Epoch 100/100\n",
      "6/6 - 0s - loss: 0.0312 - val_loss: 0.0064 - 97ms/epoch - 16ms/step\n"
     ]
    }
   ],
   "source": [
    "# Define the LSTM model\n",
    "model = Sequential()\n",
    "model.add(LSTM(units=150, activation='tanh', input_shape=(seq_length, 1)))\n",
    "model.add(Dense(units=1))\n",
    "model.compile(optimizer='adam', loss='mse')\n",
    "\n",
    "# Train the model\n",
    "history = model.fit(X_train, y_train, batch_size=8, epochs=100, validation_data=(X_test, y_test), verbose=2)"
   ]
  },
  {
   "cell_type": "code",
   "execution_count": 260,
   "id": "d7eda70e-57a6-49e0-bf30-09dc938ebb3a",
   "metadata": {},
   "outputs": [
    {
     "name": "stdout",
     "output_type": "stream",
     "text": [
      "Root Mean Squared Error (RMSE): 0.11439841892135527\n"
     ]
    }
   ],
   "source": [
    "# Calculate RMSE\n",
    "rmse = np.sqrt(np.mean((predictions - y_test)**2))\n",
    "print(\"Root Mean Squared Error (RMSE):\", rmse)"
   ]
  },
  {
   "cell_type": "code",
   "execution_count": 261,
   "id": "4c9b07d6-4071-422b-9957-fe6cce02745d",
   "metadata": {},
   "outputs": [
    {
     "data": {
      "image/png": "[encoded data removed]",
      "text/plain": [
       "<Figure size 1000x600 with 1 Axes>"
      ]
     },
     "metadata": {},
     "output_type": "display_data"
    }
   ],
   "source": [
    "# Plot train, test, and prediction\n",
    "plt.figure(figsize=(10, 6))\n",
    "plt.plot(history.history['loss'], label='Training Loss', color='blue')\n",
    "plt.plot(history.history['val_loss'], label='Validation Loss', color='orange')\n",
    "\n",
    "# Add labels and title\n",
    "plt.xlabel('Epoch')\n",
    "plt.ylabel('Loss')\n",
    "plt.title(\"Evaluation with LSTM Model for 'Education Property Managers' (Last 10 Weeks Analysis)\")\n",
    "plt.legend()\n",
    "plt.grid(True)\n",
    "\n",
    "# Save the figure\n",
    "plt.savefig('F:/Works/Collaborative Application Development/Python/Images/LSTM/Merged/Last_10_weeks/Training/Education_Property_Managers_LSTM_80%.png')"
   ]
  },
  {
   "cell_type": "code",
   "execution_count": 262,
   "id": "79dd9e51-3436-4ef4-bf3d-94607a05c929",
   "metadata": {},
   "outputs": [
    {
     "name": "stdout",
     "output_type": "stream",
     "text": [
      "1/1 [==============================] - 1s 810ms/step\n",
      "1/1 [==============================] - 0s 31ms/step\n",
      "1/1 [==============================] - 0s 16ms/step\n",
      "1/1 [==============================] - 0s 23ms/step\n",
      "1/1 [==============================] - 0s 31ms/step\n",
      "1/1 [==============================] - 0s 39ms/step\n",
      "1/1 [==============================] - 0s 31ms/step\n",
      "1/1 [==============================] - 0s 38ms/step\n",
      "1/1 [==============================] - 0s 31ms/step\n",
      "1/1 [==============================] - 0s 31ms/step\n",
      "1/1 [==============================] - 0s 41ms/step\n",
      "1/1 [==============================] - 0s 25ms/step\n",
      "1/1 [==============================] - 0s 16ms/step\n",
      "1/1 [==============================] - 0s 31ms/step\n",
      "1/1 [==============================] - 0s 34ms/step\n",
      "1/1 [==============================] - 0s 27ms/step\n",
      "1/1 [==============================] - 0s 25ms/step\n",
      "1/1 [==============================] - 0s 16ms/step\n",
      "1/1 [==============================] - 0s 24ms/step\n",
      "1/1 [==============================] - 0s 16ms/step\n",
      "1/1 [==============================] - 0s 32ms/step\n",
      "1/1 [==============================] - 0s 28ms/step\n",
      "1/1 [==============================] - 0s 31ms/step\n",
      "1/1 [==============================] - 0s 31ms/step\n",
      "1/1 [==============================] - 0s 35ms/step\n",
      "1/1 [==============================] - 0s 45ms/step\n",
      "1/1 [==============================] - 0s 29ms/step\n",
      "1/1 [==============================] - 0s 47ms/step\n",
      "1/1 [==============================] - 0s 44ms/step\n",
      "1/1 [==============================] - 0s 19ms/step\n",
      "1/1 [==============================] - 0s 16ms/step\n",
      "1/1 [==============================] - 0s 31ms/step\n",
      "1/1 [==============================] - 0s 31ms/step\n",
      "1/1 [==============================] - 0s 42ms/step\n",
      "1/1 [==============================] - 0s 31ms/step\n",
      "1/1 [==============================] - 0s 47ms/step\n",
      "1/1 [==============================] - 0s 31ms/step\n",
      "1/1 [==============================] - 0s 29ms/step\n",
      "1/1 [==============================] - 0s 31ms/step\n",
      "1/1 [==============================] - 0s 31ms/step\n",
      "1/1 [==============================] - 0s 34ms/step\n",
      "1/1 [==============================] - 0s 32ms/step\n"
     ]
    }
   ],
   "source": [
    "# Forecast future values\n",
    "future_steps = 42  # Define the number of future steps to forecast\n",
    "\n",
    "# Initialize an array to store future predictions\n",
    "future_predictions = []\n",
    "\n",
    "# Use the last sequence from the test set to start predicting the future values\n",
    "last_sequence = X_test[-1]\n",
    "\n",
    "for _ in range(future_steps):\n",
    "    # Reshape the last sequence to match the input shape of the model\n",
    "    last_sequence = last_sequence.reshape((1, seq_length, 1))\n",
    "    \n",
    "    # Predict the next value\n",
    "    next_prediction = model.predict(last_sequence)\n",
    "    \n",
    "    # Append the predicted value to the list of future predictions\n",
    "    future_predictions.append(next_prediction[0][0])\n",
    "    \n",
    "    # Update the last sequence by removing the first value and adding the predicted value at the end\n",
    "    last_sequence = np.roll(last_sequence, -1)\n",
    "    last_sequence[-1] = next_prediction\n",
    "\n",
    "# Inverse transform the scaled predictions to the original scale\n",
    "future_predictions = scaler.inverse_transform(np.array(future_predictions).reshape(-1, 1))"
   ]
  },
  {
   "cell_type": "code",
   "execution_count": 263,
   "id": "288285e1-4678-444b-8dfc-3f079400b009",
   "metadata": {},
   "outputs": [
    {
     "data": {
      "image/png": "[encoded data removed]",
      "text/plain": [
       "<Figure size 1000x600 with 1 Axes>"
      ]
     },
     "metadata": {},
     "output_type": "display_data"
    }
   ],
   "source": [
    "# Plot the original data and future predictions\n",
    "plt.figure(figsize=(10, 6))\n",
    "plt.plot(total_registered, label='Original Data', color='blue')\n",
    "plt.plot(np.arange(len(total_registered), len(total_registered) + future_steps), future_predictions, label='Future Predictions', color='red')\n",
    "\n",
    "# Add labels and title\n",
    "plt.xlabel('Period')\n",
    "plt.ylabel('Number of Registrations')\n",
    "plt.title(\"Prediction with LSTM Model for 'Education Property Managers' (Last 10 Weeks Analysis)\")\n",
    "plt.grid(True)\n",
    "\n",
    "# Save the figure\n",
    "plt.savefig('F:/Works/Collaborative Application Development/Python/Images/LSTM/Merged/Last_10_weeks/Prediction/Education_Property_Managers_LSTM_80%.png')"
   ]
  },
  {
   "cell_type": "code",
   "execution_count": null,
   "id": "534828ee-c4e5-4a00-a4f2-7142d89e792e",
   "metadata": {},
   "outputs": [],
   "source": []
  },
  {
   "cell_type": "code",
   "execution_count": null,
   "id": "98da61c8-ed34-4e8d-b222-7e104eb7b254",
   "metadata": {},
   "outputs": [],
   "source": []
  },
  {
   "cell_type": "code",
   "execution_count": null,
   "id": "4c836c2e-1b14-469b-8fbd-7a054414d40f",
   "metadata": {},
   "outputs": [],
   "source": []
  },
  {
   "cell_type": "code",
   "execution_count": null,
   "id": "473e32c5-9bf4-4f14-a4cd-46f1f3bc7a21",
   "metadata": {},
   "outputs": [],
   "source": [
    "#............................................................................................................................#"
   ]
  },
  {
   "cell_type": "code",
   "execution_count": null,
   "id": "cb246153-45ab-4520-9fc9-b2eb3e7875b7",
   "metadata": {},
   "outputs": [],
   "source": []
  },
  {
   "cell_type": "code",
   "execution_count": null,
   "id": "db209e86-08b4-4c6e-9c6f-ea3d6824b54b",
   "metadata": {},
   "outputs": [],
   "source": []
  },
  {
   "cell_type": "code",
   "execution_count": 258,
   "id": "3b918d0c-3375-4c8c-be1a-8f53d6e1fc60",
   "metadata": {},
   "outputs": [
    {
     "name": "stdout",
     "output_type": "stream",
     "text": [
      "1/1 [==============================] - 0s 290ms/step\n",
      "1/1 [==============================] - 0s 247ms/step\n",
      "1/1 [==============================] - 0s 285ms/step\n",
      "1/1 [==============================] - 0s 278ms/step\n",
      "1/1 [==============================] - 0s 250ms/step\n",
      "1/1 [==============================] - 0s 285ms/step\n",
      "1/1 [==============================] - 1s 887ms/step\n",
      "1/1 [==============================] - 0s 432ms/step\n",
      "1/1 [==============================] - 0s 449ms/step\n",
      "1/1 [==============================] - 1s 980ms/step\n",
      "1/1 [==============================] - 1s 933ms/step\n",
      "1/1 [==============================] - 1s 933ms/step\n",
      "1/1 [==============================] - 1s 932ms/step\n",
      "1/1 [==============================] - 1s 866ms/step\n",
      "1/1 [==============================] - 1s 800ms/step\n",
      "1/1 [==============================] - 1s 774ms/step\n",
      "1/1 [==============================] - 1s 782ms/step\n",
      "1/1 [==============================] - 1s 750ms/step\n",
      "1/1 [==============================] - 0s 317ms/step\n",
      "1/1 [==============================] - 0s 290ms/step\n",
      "1/1 [==============================] - 0s 300ms/step\n",
      "1/1 [==============================] - 0s 300ms/step\n",
      "1/1 [==============================] - 0s 299ms/step\n",
      "1/1 [==============================] - 0s 283ms/step\n",
      "1/1 [==============================] - 0s 295ms/step\n",
      "1/1 [==============================] - 0s 267ms/step\n",
      "1/1 [==============================] - 0s 283ms/step\n",
      "1/1 [==============================] - 1s 717ms/step\n",
      "1/1 [==============================] - 1s 685ms/step\n",
      "1/1 [==============================] - 1s 665ms/step\n",
      "1/1 [==============================] - 1s 701ms/step\n",
      "1/1 [==============================] - 1s 650ms/step\n",
      "1/1 [==============================] - 1s 667ms/step\n",
      "1/1 [==============================] - 1s 600ms/step\n",
      "1/1 [==============================] - 1s 1s/step\n",
      "1/1 [==============================] - 1s 601ms/step\n",
      "1/1 [==============================] - 0s 264ms/step\n",
      "1/1 [==============================] - 0s 333ms/step\n",
      "1/1 [==============================] - 0s 267ms/step\n",
      "1/1 [==============================] - 0s 267ms/step\n",
      "1/1 [==============================] - 0s 267ms/step\n",
      "1/1 [==============================] - 0s 269ms/step\n",
      "1/1 [==============================] - 0s 250ms/step\n",
      "1/1 [==============================] - 0s 233ms/step\n",
      "1/1 [==============================] - 0s 266ms/step\n",
      "1/1 [==============================] - 1s 583ms/step\n",
      "1/1 [==============================] - 1s 583ms/step\n",
      "1/1 [==============================] - 1s 603ms/step\n",
      "1/1 [==============================] - 1s 615ms/step\n",
      "1/1 [==============================] - 1s 600ms/step\n",
      "1/1 [==============================] - 1s 583ms/step\n",
      "1/1 [==============================] - 1s 600ms/step\n",
      "1/1 [==============================] - 1s 566ms/step\n",
      "1/1 [==============================] - 1s 583ms/step\n",
      "Best parameters: (150, 'tanh', 8, 100)\n",
      "Best RMSE: 0.06704727383161378\n"
     ]
    }
   ],
   "source": [
    "# Define parameter ranges\n",
    "units = [50, 100, 150]\n",
    "activations = ['relu', 'tanh']\n",
    "batch_sizes = [8, 16, 32]\n",
    "epochs = [50, 100, 200]\n",
    "\n",
    "# Generate all possible combinations of parameters\n",
    "param_grid = product(units, activations, batch_sizes, epochs)\n",
    "\n",
    "# Initialize variables to store optimal parameters and minimum RMSE\n",
    "best_rmse = float('inf')\n",
    "best_params = None\n",
    "\n",
    "for unit, activation, batch_size, num_epochs in param_grid:\n",
    "    # Define the LSTM model\n",
    "    model = Sequential()\n",
    "    model.add(LSTM(units=unit, activation=activation, input_shape=(seq_length, 1)))\n",
    "    model.add(Dense(units=1))\n",
    "    model.compile(optimizer='adam', loss='mse')\n",
    "\n",
    "    # Train the model\n",
    "    history = model.fit(X_train, y_train, epochs=num_epochs, batch_size=batch_size, verbose=0)\n",
    "\n",
    "    # Make predictions\n",
    "    predictions = model.predict(X_test)\n",
    "\n",
    "    # Calculate RMSE\n",
    "    rmse = np.sqrt(np.mean((predictions - y_test)**2))\n",
    "    \n",
    "    # Update best parameters if the current configuration has lower RMSE\n",
    "    if rmse < best_rmse:\n",
    "        best_rmse = rmse\n",
    "        best_params = (unit, activation, batch_size, num_epochs)\n",
    "\n",
    "print(\"Best parameters:\", best_params)\n",
    "print(\"Best RMSE:\", best_rmse)"
   ]
  },
  {
   "cell_type": "code",
   "execution_count": null,
   "id": "c6d94014-5354-42c8-9ccc-e4bb84ff8745",
   "metadata": {},
   "outputs": [],
   "source": []
  }
 ],
 "metadata": {
  "kernelspec": {
   "display_name": "Python 3 (ipykernel)",
   "language": "python",
   "name": "python3"
  },
  "language_info": {
   "codemirror_mode": {
    "name": "ipython",
    "version": 3
   },
   "file_extension": ".py",
   "mimetype": "text/x-python",
   "name": "python",
   "nbconvert_exporter": "python",
   "pygments_lexer": "ipython3",
   "version": "3.9.13"
  }
 },
 "nbformat": 4,
 "nbformat_minor": 5
}
