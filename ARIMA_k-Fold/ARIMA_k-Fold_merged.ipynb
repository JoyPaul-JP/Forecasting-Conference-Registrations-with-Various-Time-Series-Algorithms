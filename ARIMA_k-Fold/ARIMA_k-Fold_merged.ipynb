{
 "cells": [
  {
   "cell_type": "code",
   "execution_count": 1,
   "id": "92e0e5f9-7b1e-400c-8a2a-7ceb71f9307f",
   "metadata": {},
   "outputs": [
    {
     "name": "stderr",
     "output_type": "stream",
     "text": [
      "C:\\Users\\joypa\\AppData\\Local\\Temp\\ipykernel_11952\\2531538493.py:4: DeprecationWarning: \n",
      "Pyarrow will become a required dependency of pandas in the next major release of pandas (pandas 3.0),\n",
      "(to allow more performant data types, such as the Arrow string type, and better interoperability with other libraries)\n",
      "but was not found to be installed on your system.\n",
      "If this would cause problems for you,\n",
      "please provide us feedback at https://github.com/pandas-dev/pandas/issues/54466\n",
      "        \n",
      "  import pandas as pd\n"
     ]
    }
   ],
   "source": [
    "#importing libraries \n",
    "import matplotlib.pyplot as plt\n",
    "import pandas as pd\n",
    "import numpy as np\n",
    "import statsmodels.api as sm\n",
    "from statsmodels.tsa.arima.model import ARIMA\n",
    "from sklearn.metrics import mean_absolute_error, mean_squared_error\n",
    "from matplotlib.ticker import FixedLocator\n",
    "from statsmodels.tsa.stattools import adfuller\n",
    "import itertools\n",
    "import warnings\n",
    "warnings.filterwarnings('ignore')\n",
    "from sklearn.model_selection import TimeSeriesSplit"
   ]
  },
  {
   "cell_type": "code",
   "execution_count": 21,
   "id": "cc2738b9-03e0-4d1f-8f72-22bb668e57fa",
   "metadata": {},
   "outputs": [],
   "source": [
    "# Read the CSV files into pandas DataFrames\n",
    "df1 = pd.read_csv('F:/Works/Collaborative Application Development/Day Data/GP21_updated_days.csv')  # Replace with the actual file path\n",
    "df2 = pd.read_csv('F:/Works/Collaborative Application Development/Day Data/NP21_updated_days.csv')  # Replace with the actual file path"
   ]
  },
  {
   "cell_type": "code",
   "execution_count": 22,
   "id": "6c30d494-a560-41d2-ae70-f0e974f1efcf",
   "metadata": {},
   "outputs": [],
   "source": [
    "# Drop the 'Date' column from both DataFrames\n",
    "df1 = df1.drop('Date', axis=1)\n",
    "df2 = df2.drop('Date', axis=1)"
   ]
  },
  {
   "cell_type": "code",
   "execution_count": 23,
   "id": "ecad2d2d-47ed-4136-8294-2e8efc8d64e4",
   "metadata": {},
   "outputs": [],
   "source": [
    "# Extract 'Total Registered' column\n",
    "total_registered_df1 = df1['Total Registered']\n",
    "total_registered_df1 = total_registered_df1[-70:]\n",
    "\n",
    "# Extract 'Total Registered' column\n",
    "total_registered_df2 = df2['Total Registered']\n",
    "total_registered_df2 = total_registered_df2[-70:]"
   ]
  },
  {
   "cell_type": "code",
   "execution_count": 24,
   "id": "f259fba4-829b-478c-bc99-faeb12ab327f",
   "metadata": {},
   "outputs": [],
   "source": [
    "# Reset index for both DataFrames\n",
    "total_registered_df1.reset_index(drop=True, inplace=True)\n",
    "total_registered_df2.reset_index(drop=True, inplace=True)"
   ]
  },
  {
   "cell_type": "code",
   "execution_count": 25,
   "id": "767a8a28-7948-411d-a5f9-b6a46d3ef0b2",
   "metadata": {},
   "outputs": [
    {
     "name": "stdout",
     "output_type": "stream",
     "text": [
      "    Total Registered  Total Registered\n",
      "0                  1                 1\n",
      "1                  1                 1\n",
      "2                  1                 1\n",
      "3                 27                 1\n",
      "4                  8                 1\n",
      "..               ...               ...\n",
      "65                 1                 1\n",
      "66                10                 1\n",
      "67                19                 1\n",
      "68                29                 1\n",
      "69                 2                 2\n",
      "\n",
      "[70 rows x 2 columns]\n"
     ]
    }
   ],
   "source": [
    "# Concatenate the DataFrames along the columns axis\n",
    "df = pd.concat([total_registered_df1, total_registered_df2], axis=1)\n",
    "print(df)"
   ]
  },
  {
   "cell_type": "code",
   "execution_count": 26,
   "id": "5895c33b-4cba-4a58-adf9-979026380db0",
   "metadata": {},
   "outputs": [],
   "source": [
    "# Calculate the mean along the columns axis to combine the values into a single column\n",
    "df['Total Registered Data'] = df.mean(axis=1).round().astype(int)  # You can replace 'mean' with 'median', 'sum', or any other aggregation function\n",
    "\n",
    "# Drop the original columns from the concatenated DataFrame\n",
    "df = df.drop(['Total Registered'], axis=1)"
   ]
  },
  {
   "cell_type": "code",
   "execution_count": 27,
   "id": "3bab0eec-e03f-4886-b9a9-0756c934d6eb",
   "metadata": {},
   "outputs": [
    {
     "name": "stdout",
     "output_type": "stream",
     "text": [
      "    Total Registered Data     Day\n",
      "0                       1   Day 1\n",
      "1                       1   Day 2\n",
      "2                       1   Day 3\n",
      "3                      14   Day 4\n",
      "4                       4   Day 5\n",
      "..                    ...     ...\n",
      "65                      1  Day 66\n",
      "66                      6  Day 67\n",
      "67                     10  Day 68\n",
      "68                     15  Day 69\n",
      "69                      2  Day 70\n",
      "\n",
      "[70 rows x 2 columns]\n"
     ]
    }
   ],
   "source": [
    "df.reset_index(drop=True, inplace=True)\n",
    "\n",
    "# Add a new column named \"Day\" starting from 1\n",
    "df['Day'] = 'Day ' + (df.index + 1).astype(str)\n",
    "print(df)\n",
    "\n",
    "# Save the DataFrame to a CSV file\n",
    "#df.to_csv('F:/Works/Collaborative Application Development/Merged Dataset (Last 10 Weeks)/Property_Managers.csv', index=False)"
   ]
  },
  {
   "cell_type": "code",
   "execution_count": 281,
   "id": "33b95655-df2b-4882-9b0c-c548d4c428e5",
   "metadata": {},
   "outputs": [],
   "source": [
    "# Ensure 'Week' is treated as a categorical variable\n",
    "df['Day'] = df['Day'].astype('category')\n",
    "\n",
    "# Extract 'Total Registered' column\n",
    "total_registered = df['Total Registered Data']"
   ]
  },
  {
   "cell_type": "code",
   "execution_count": null,
   "id": "80d96f8f-9873-4665-857c-d7fec83f0d02",
   "metadata": {},
   "outputs": [],
   "source": []
  },
  {
   "cell_type": "code",
   "execution_count": null,
   "id": "61a84c08-be51-44ad-8362-9dd28a71422c",
   "metadata": {},
   "outputs": [],
   "source": []
  },
  {
   "cell_type": "code",
   "execution_count": null,
   "id": "c9eea6ad-1d46-469a-bac4-2efd7151e2dd",
   "metadata": {},
   "outputs": [],
   "source": []
  },
  {
   "cell_type": "code",
   "execution_count": 30,
   "id": "4b8b0e55-00fe-4dbd-a58d-696dd07437bf",
   "metadata": {},
   "outputs": [
    {
     "name": "stdout",
     "output_type": "stream",
     "text": [
      "0     1\n",
      "1     1\n",
      "2     1\n",
      "3     2\n",
      "4     1\n",
      "     ..\n",
      "65    1\n",
      "66    1\n",
      "67    1\n",
      "68    1\n",
      "69    2\n",
      "Name: Total Registered, Length: 70, dtype: int64\n"
     ]
    }
   ],
   "source": [
    "#For MSE21\n",
    "\n",
    "# Load your DataFrame from the CSV file\n",
    "df = pd.read_csv('F:/Works/Collaborative Application Development/Day Data/MSE21_updated_days.csv')\n",
    "\n",
    "# Drop unnecessary columns\n",
    "df = df.drop(['Date', 'Day'], axis=1)\n",
    "\n",
    "# Extract the last 70 rows from the DataFrame\n",
    "total_registered = df['Total Registered'].tail(70)\n",
    "\n",
    "# Create a new DataFrame for the last 70 rows with a new 'Day' column\n",
    "day_column = ['Day ' + str(i) for i in range(1, len(total_registered) + 1)]\n",
    "day_df = pd.DataFrame({'Total Registered': total_registered.values, 'Day': day_column})\n",
    "\n",
    "# Save the DataFrame to a CSV file\n",
    "#day_df.to_csv('F:/Works/Collaborative Application Development/Merged Dataset (Last 10 Weeks)/Education_Property_Managers.csv', index=False)\n",
    "\n",
    "# Ensure 'Day' is treated as a categorical variable\n",
    "day_df['Day'] = day_df['Day'].astype('category')\n",
    "# Extract 'Total Registered' column\n",
    "total_registered = day_df['Total Registered']\n",
    "# Display the DataFrame\n",
    "print(total_registered)"
   ]
  },
  {
   "cell_type": "code",
   "execution_count": null,
   "id": "d0657edd-d8db-4020-8587-90adaa1c0613",
   "metadata": {},
   "outputs": [],
   "source": []
  },
  {
   "cell_type": "code",
   "execution_count": null,
   "id": "83c5b91d-1d38-4759-bcc7-dd5a5a51a9b9",
   "metadata": {},
   "outputs": [],
   "source": []
  },
  {
   "cell_type": "code",
   "execution_count": null,
   "id": "0facdb14-2862-468c-ba56-4560a09a381f",
   "metadata": {},
   "outputs": [],
   "source": []
  },
  {
   "cell_type": "code",
   "execution_count": 282,
   "id": "f0d3bca2-f779-4101-b7ac-7a3aad2d711a",
   "metadata": {},
   "outputs": [
    {
     "name": "stdout",
     "output_type": "stream",
     "text": [
      "pvalue of adfuller test is:  0.2346600005908555\n"
     ]
    }
   ],
   "source": [
    "#pvalue> 0.05 -----> not stationary\n",
    "#Dickey-Fuller Test\n",
    "\n",
    "adftest = adfuller(total_registered)\n",
    "print('pvalue of adfuller test is: ', adftest[1])"
   ]
  },
  {
   "cell_type": "code",
   "execution_count": 283,
   "id": "f4594b00-c5dc-4f45-8964-044248822e24",
   "metadata": {},
   "outputs": [
    {
     "data": {
      "text/plain": [
       "28"
      ]
     },
     "execution_count": 283,
     "metadata": {},
     "output_type": "execute_result"
    }
   ],
   "source": [
    "# Check the length of the total_registered series\n",
    "len(total_registered)"
   ]
  },
  {
   "cell_type": "code",
   "execution_count": 290,
   "id": "474799e7-71fb-4bd1-9ecb-b106ed868d27",
   "metadata": {},
   "outputs": [],
   "source": [
    "#train-test split\n",
    "train = total_registered[:22]\n",
    "test = total_registered[22:]"
   ]
  },
  {
   "cell_type": "code",
   "execution_count": 291,
   "id": "6b229f8e-12fd-4c73-b445-ce74e2868f3b",
   "metadata": {},
   "outputs": [],
   "source": [
    "# Define the number of folds for cross-validation\n",
    "n_splits = 5"
   ]
  },
  {
   "cell_type": "code",
   "execution_count": 292,
   "id": "685971ae-7c93-41a7-bf70-43aef7a04cf4",
   "metadata": {},
   "outputs": [],
   "source": [
    "# Initialize TimeSeriesSplit for k-fold cross-validation\n",
    "tscv = TimeSeriesSplit(n_splits=n_splits)"
   ]
  },
  {
   "cell_type": "code",
   "execution_count": 293,
   "id": "804604c6-7d60-4fa4-baf4-29101e30c3dd",
   "metadata": {},
   "outputs": [
    {
     "name": "stdout",
     "output_type": "stream",
     "text": [
      "Average RMSE: 2.504987562112089\n"
     ]
    }
   ],
   "source": [
    "# Initialize lists to store RMSE values for each fold\n",
    "rmse_scores = []\n",
    "\n",
    "# Perform k-fold cross-validation\n",
    "for train_index, test_index in tscv.split(total_registered):\n",
    "    train, test = total_registered[train_index], total_registered[test_index]\n",
    "    \n",
    "    # Fit ARIMA model\n",
    "    model = ARIMA(train, order=(0, 1, 0)).fit()\n",
    "    \n",
    "    # Make predictions\n",
    "    pred = model.predict(start=test_index[0], end=test_index[-1], typ='levels')\n",
    "    \n",
    "    # Calculate RMSE\n",
    "    rmse = np.sqrt(mean_squared_error(test, pred))\n",
    "    rmse_scores.append(rmse)\n",
    "\n",
    "# Calculate the average RMSE across all folds\n",
    "average_rmse = np.mean(rmse_scores)\n",
    "print(\"Average RMSE:\", average_rmse)"
   ]
  },
  {
   "cell_type": "code",
   "execution_count": 294,
   "id": "fc72cb2c-d9c2-494e-ad27-7decb3a14402",
   "metadata": {},
   "outputs": [
    {
     "data": {
      "image/png": "[encoded data removed]",
      "text/plain": [
       "<Figure size 1000x600 with 1 Axes>"
      ]
     },
     "metadata": {},
     "output_type": "display_data"
    }
   ],
   "source": [
    "# Plot train, test, and prediction\n",
    "plt.figure(figsize=(10, 6))\n",
    "plt.plot(total_registered.index[:len(train)], train, label='Train', color='blue')\n",
    "plt.plot(total_registered.index[len(train):len(train) + len(test)], test, label='Test', color='green')\n",
    "plt.plot(total_registered.index[len(train):len(train) + len(test)], pred, label='Prediction', color='red')\n",
    "\n",
    "# Add labels and title\n",
    "plt.xlabel('Period')\n",
    "plt.ylabel('Number of Registrations')\n",
    "plt.title(\"Evaluation with ARIMA Model for 'Education Managers' (Last 4 Weeks Analysis)\")\n",
    "plt.legend()\n",
    "plt.grid(True)\n",
    "\n",
    "# Save the figure\n",
    "plt.savefig('F:/Works/Collaborative Application Development/Python/Images/Arima_k-Fold/Merged/Last_4_weeks/Training/Education_Managers_Arima_5-fold_80%.png')"
   ]
  },
  {
   "cell_type": "code",
   "execution_count": 295,
   "id": "f47b03ee-8dd6-43fd-8ea8-102397bb842c",
   "metadata": {},
   "outputs": [
    {
     "name": "stdout",
     "output_type": "stream",
     "text": [
      "28    1.0\n",
      "29    1.0\n",
      "30    1.0\n",
      "31    1.0\n",
      "32    1.0\n",
      "33    1.0\n",
      "34    1.0\n",
      "35    1.0\n",
      "36    1.0\n",
      "37    1.0\n",
      "38    1.0\n",
      "39    1.0\n",
      "40    1.0\n",
      "41    1.0\n",
      "42    1.0\n",
      "43    1.0\n",
      "44    1.0\n",
      "45    1.0\n",
      "46    1.0\n",
      "47    1.0\n",
      "48    1.0\n",
      "49    1.0\n",
      "50    1.0\n",
      "51    1.0\n",
      "52    1.0\n",
      "53    1.0\n",
      "54    1.0\n",
      "55    1.0\n",
      "56    1.0\n",
      "57    1.0\n",
      "58    1.0\n",
      "59    1.0\n",
      "60    1.0\n",
      "61    1.0\n",
      "62    1.0\n",
      "63    1.0\n",
      "64    1.0\n",
      "65    1.0\n",
      "66    1.0\n",
      "67    1.0\n",
      "68    1.0\n",
      "69    1.0\n",
      "70    1.0\n",
      "Name: predicted_mean, dtype: float64\n"
     ]
    }
   ],
   "source": [
    "# Fit ARIMA model to the entire dataset\n",
    "final_model = ARIMA(total_registered, order=(0, 1, 0)).fit()\n",
    "\n",
    "# Forecast future values for the next 42 days (adjust as needed)\n",
    "prediction = final_model.predict(len(total_registered), len(total_registered) + 42)\n",
    "print(prediction)"
   ]
  },
  {
   "cell_type": "code",
   "execution_count": 296,
   "id": "f977bd31-846f-4317-a24f-f16484bb5e61",
   "metadata": {},
   "outputs": [
    {
     "data": {
      "image/png": "[encoded data removed]",
      "text/plain": [
       "<Figure size 1000x600 with 1 Axes>"
      ]
     },
     "metadata": {},
     "output_type": "display_data"
    }
   ],
   "source": [
    "#Plotting the prediction graph\n",
    "total_registered.plot(legend = True, label = 'Train', color='blue', figsize = (10, 6))\n",
    "prediction.plot(legend = True, label = 'Prediction', color='red')\n",
    "\n",
    "# Add labels and title\n",
    "plt.xlabel('Period')\n",
    "plt.ylabel('Number of Registrations')\n",
    "plt.title(\"Prediction with ARIMA Model for 'Education Managers' (Last 4 Weeks Analysis)\")\n",
    "plt.grid(True)\n",
    "\n",
    "# Save the figure\n",
    "plt.savefig('F:/Works/Collaborative Application Development/Python/Images/Arima_k-Fold/Merged/Last_4_weeks/Prediction/Education_Managers_Arima_5-fold_80%.png')"
   ]
  },
  {
   "cell_type": "code",
   "execution_count": null,
   "id": "12342962-ccde-427f-aa53-0faa9d5b2b58",
   "metadata": {},
   "outputs": [],
   "source": []
  },
  {
   "cell_type": "code",
   "execution_count": null,
   "id": "adf71f9c-f08a-42a9-ab1a-6817352d537e",
   "metadata": {},
   "outputs": [],
   "source": []
  },
  {
   "cell_type": "code",
   "execution_count": null,
   "id": "494c4b82-d3f3-40a4-bee2-f421efc04c75",
   "metadata": {},
   "outputs": [],
   "source": []
  },
  {
   "cell_type": "code",
   "execution_count": null,
   "id": "c2a29c04-fe0c-436a-9eea-18b0b0f18d9d",
   "metadata": {},
   "outputs": [],
   "source": [
    "#..............................................Finding optimal Hyperparameters..................................................#"
   ]
  },
  {
   "cell_type": "code",
   "execution_count": null,
   "id": "6218ff82-a37c-449f-a782-d7e622d702b3",
   "metadata": {},
   "outputs": [],
   "source": []
  },
  {
   "cell_type": "code",
   "execution_count": 285,
   "id": "27134387-82b8-4428-8dfc-5c810f3a3866",
   "metadata": {},
   "outputs": [
    {
     "name": "stdout",
     "output_type": "stream",
     "text": [
      "Error fitting model for parameter (5, 1, 4): LU decomposition error.\n",
      "Error fitting model for parameter (6, 1, 1): LU decomposition error.\n",
      "Error fitting model for parameter (6, 1, 4): LU decomposition error.\n",
      "Error fitting model for parameter (7, 1, 0): LU decomposition error.\n",
      "Error fitting model for parameter (7, 1, 1): LU decomposition error.\n",
      "Error fitting model for parameter (7, 1, 5): LU decomposition error.\n",
      "Error fitting model for parameter (7, 1, 7): LU decomposition error.\n",
      "     Parameter  Mean RMSE\n",
      "108  (6, 1, 4)   2.481984\n",
      "8    (0, 1, 0)   2.504988\n",
      "24   (1, 1, 0)   2.512675\n",
      "127  (7, 1, 7)   2.572091\n",
      "121  (7, 1, 1)   2.611485\n",
      "..         ...        ...\n",
      "101  (6, 0, 5)   3.748679\n",
      "86   (5, 0, 6)   3.864903\n",
      "125  (7, 1, 5)   3.906564\n",
      "100  (6, 0, 4)   3.929722\n",
      "102  (6, 0, 6)   3.931924\n",
      "\n",
      "[128 rows x 2 columns]\n"
     ]
    }
   ],
   "source": [
    "# Define the number of folds for cross-validation\n",
    "n_splits = 5  # You can adjust this number based on your preference\n",
    "\n",
    "# Define the range for p, d, and q\n",
    "p_range = range(0, 8)\n",
    "d_range = range(0, 2)\n",
    "q_range = range(0, 8)\n",
    "\n",
    "# Generate all possible combinations of p, d, and q\n",
    "pdq_combinations = list(itertools.product(p_range, d_range, q_range))\n",
    "\n",
    "# Initialize lists to store results\n",
    "rmse_scores = []\n",
    "parameter_combinations = []\n",
    "\n",
    "# Initialize TimeSeriesSplit for k-fold cross-validation\n",
    "tscv = TimeSeriesSplit(n_splits=n_splits)\n",
    "\n",
    "# Perform k-fold cross-validation\n",
    "for pdq in pdq_combinations:\n",
    "    rmse_scores_fold = []\n",
    "    for train_index, test_index in tscv.split(total_registered):\n",
    "        train = total_registered[train_index]\n",
    "        test = total_registered[test_index]\n",
    "        try:\n",
    "            # Fit ARIMA model and make predictions\n",
    "            model = ARIMA(train, order=pdq).fit()\n",
    "            pred = model.predict(start=test.index[0], end=test.index[-1], typ='levels')\n",
    "            # Calculate RMSE for each fold\n",
    "            rmse_fold = np.sqrt(mean_squared_error(test, pred))\n",
    "            rmse_scores_fold.append(rmse_fold)\n",
    "        except Exception as e:\n",
    "            print(f'Error fitting model for parameter {pdq}: {str(e)}')\n",
    "            continue\n",
    "    if rmse_scores_fold:\n",
    "        # Calculate the mean RMSE across all folds for the current parameter combination\n",
    "        mean_rmse = np.mean(rmse_scores_fold)\n",
    "        # Append mean RMSE and corresponding parameter combination to lists\n",
    "        rmse_scores.append(mean_rmse)\n",
    "        parameter_combinations.append(pdq)\n",
    "\n",
    "# Create a DataFrame to store the results\n",
    "result_df = pd.DataFrame({'Parameter': parameter_combinations, 'Mean RMSE': rmse_scores})\n",
    "\n",
    "# Sort the DataFrame by Mean RMSE\n",
    "result_df = result_df.sort_values(by='Mean RMSE')\n",
    "\n",
    "# Print the DataFrame\n",
    "print(result_df)"
   ]
  },
  {
   "cell_type": "code",
   "execution_count": null,
   "id": "e9ad5b4f-7662-474c-b5ad-37e9e07b67e7",
   "metadata": {},
   "outputs": [],
   "source": []
  },
  {
   "cell_type": "code",
   "execution_count": null,
   "id": "9d7d175a-d97e-4c2f-a095-6d75a8f41d2a",
   "metadata": {},
   "outputs": [],
   "source": []
  }
 ],
 "metadata": {
  "kernelspec": {
   "display_name": "Python 3 (ipykernel)",
   "language": "python",
   "name": "python3"
  },
  "language_info": {
   "codemirror_mode": {
    "name": "ipython",
    "version": 3
   },
   "file_extension": ".py",
   "mimetype": "text/x-python",
   "name": "python",
   "nbconvert_exporter": "python",
   "pygments_lexer": "ipython3",
   "version": "3.9.13"
  }
 },
 "nbformat": 4,
 "nbformat_minor": 5
}
